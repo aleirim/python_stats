{
 "cells": [
  {
   "cell_type": "markdown",
   "id": "be53e9b6",
   "metadata": {},
   "source": [
    "### Population mean - σ unknown: using scipy for confidence interval and hypothesis intervals"
   ]
  },
  {
   "cell_type": "markdown",
   "id": "23185656",
   "metadata": {},
   "source": [
    "### Introduction\n",
    "After conducting exploratory data analysis, we can use the sample to infer (or draw conclusions) about the population from which it was drawn.\n",
    "Methods of making inferences about parameters are either estimating the parameter or testing a hypothesis about the value of the parameter.\n",
    "A parameter is a number that describes the population (p, μ, σ) while a statistic is a number that is computed from the sample (p̂, x̄, *s*).\n",
    "<br>\n",
    "\n",
    "<br><u>*Point estimation*</u>\n",
    "\n",
    "Point estimation is the form of statistical inference, in which, based on the sample data, we estimate the unknown parameter of interest using a single value.\n",
    "\n",
    "<br><u>*Confidence Interval*</u>\n",
    "\n",
    "The idea behind interval estimation is to enhance the simple point estimates by supplying information about the size of the error attached.\n",
    "\n",
    "<br><u>*Hypothesis Testing*</u>\n",
    "\n",
    "Statistical hypothesis testing is defined as assessing evidence provided by the data in favor of or against some claim about the population."
   ]
  },
  {
   "cell_type": "markdown",
   "id": "e14925d4",
   "metadata": {},
   "source": [
    "### Examples using scipy package"
   ]
  },
  {
   "cell_type": "code",
   "execution_count": 35,
   "id": "fd670b0e",
   "metadata": {},
   "outputs": [],
   "source": [
    "import numpy as np\n",
    "import pandas as pd\n",
    "import scipy.stats as st"
   ]
  },
  {
   "cell_type": "markdown",
   "id": "0ccdc505",
   "metadata": {},
   "source": [
    "**Dataset**\n",
    "\n",
    "I will be using the [UCI](https://archive.ics.uci.edu/ml/datasets/census+income) adult census dataset -- also avaliable from [Kaggle](https://www.kaggle.com/uciml/adult-census-income)."
   ]
  },
  {
   "cell_type": "code",
   "execution_count": 2,
   "id": "adf089c3",
   "metadata": {},
   "outputs": [
    {
     "data": {
      "text/plain": [
       "(30162, 15)"
      ]
     },
     "execution_count": 2,
     "metadata": {},
     "output_type": "execute_result"
    }
   ],
   "source": [
    "df_income = pd.read_csv('data/cleaned_census_income.csv')\n",
    "df_income.shape"
   ]
  },
  {
   "cell_type": "code",
   "execution_count": 3,
   "id": "97bfa20e",
   "metadata": {},
   "outputs": [
    {
     "name": "stdout",
     "output_type": "stream",
     "text": [
      "<class 'pandas.core.frame.DataFrame'>\n",
      "RangeIndex: 30162 entries, 0 to 30161\n",
      "Data columns (total 15 columns):\n",
      " #   Column          Non-Null Count  Dtype \n",
      "---  ------          --------------  ----- \n",
      " 0   age             30162 non-null  int64 \n",
      " 1   workclass       30162 non-null  object\n",
      " 2   fnlwgt          30162 non-null  int64 \n",
      " 3   education       30162 non-null  object\n",
      " 4   education.num   30162 non-null  int64 \n",
      " 5   marital.status  30162 non-null  object\n",
      " 6   occupation      30162 non-null  object\n",
      " 7   relationship    30162 non-null  object\n",
      " 8   race            30162 non-null  object\n",
      " 9   sex             30162 non-null  object\n",
      " 10  capital.gain    30162 non-null  int64 \n",
      " 11  capital.loss    30162 non-null  int64 \n",
      " 12  hours.per.week  30162 non-null  int64 \n",
      " 13  native.country  30162 non-null  object\n",
      " 14  income          30162 non-null  object\n",
      "dtypes: int64(6), object(9)\n",
      "memory usage: 3.5+ MB\n"
     ]
    }
   ],
   "source": [
    "df_income.info()"
   ]
  },
  {
   "cell_type": "code",
   "execution_count": 4,
   "id": "5cd586c4",
   "metadata": {},
   "outputs": [
    {
     "data": {
      "text/html": [
       "<div>\n",
       "<style scoped>\n",
       "    .dataframe tbody tr th:only-of-type {\n",
       "        vertical-align: middle;\n",
       "    }\n",
       "\n",
       "    .dataframe tbody tr th {\n",
       "        vertical-align: top;\n",
       "    }\n",
       "\n",
       "    .dataframe thead th {\n",
       "        text-align: right;\n",
       "    }\n",
       "</style>\n",
       "<table border=\"1\" class=\"dataframe\">\n",
       "  <thead>\n",
       "    <tr style=\"text-align: right;\">\n",
       "      <th></th>\n",
       "      <th>age</th>\n",
       "      <th>workclass</th>\n",
       "      <th>fnlwgt</th>\n",
       "      <th>education</th>\n",
       "      <th>education.num</th>\n",
       "      <th>marital.status</th>\n",
       "      <th>occupation</th>\n",
       "      <th>relationship</th>\n",
       "      <th>race</th>\n",
       "      <th>sex</th>\n",
       "      <th>capital.gain</th>\n",
       "      <th>capital.loss</th>\n",
       "      <th>hours.per.week</th>\n",
       "      <th>native.country</th>\n",
       "      <th>income</th>\n",
       "    </tr>\n",
       "  </thead>\n",
       "  <tbody>\n",
       "    <tr>\n",
       "      <th>0</th>\n",
       "      <td>82</td>\n",
       "      <td>Private</td>\n",
       "      <td>132870</td>\n",
       "      <td>HS-grad</td>\n",
       "      <td>9</td>\n",
       "      <td>Widowed</td>\n",
       "      <td>Exec-managerial</td>\n",
       "      <td>Not-in-family</td>\n",
       "      <td>White</td>\n",
       "      <td>Female</td>\n",
       "      <td>0</td>\n",
       "      <td>4356</td>\n",
       "      <td>18</td>\n",
       "      <td>United-States</td>\n",
       "      <td>&lt;=50K</td>\n",
       "    </tr>\n",
       "    <tr>\n",
       "      <th>1</th>\n",
       "      <td>54</td>\n",
       "      <td>Private</td>\n",
       "      <td>140359</td>\n",
       "      <td>7th-8th</td>\n",
       "      <td>4</td>\n",
       "      <td>Divorced</td>\n",
       "      <td>Machine-op-inspct</td>\n",
       "      <td>Unmarried</td>\n",
       "      <td>White</td>\n",
       "      <td>Female</td>\n",
       "      <td>0</td>\n",
       "      <td>3900</td>\n",
       "      <td>40</td>\n",
       "      <td>United-States</td>\n",
       "      <td>&lt;=50K</td>\n",
       "    </tr>\n",
       "    <tr>\n",
       "      <th>2</th>\n",
       "      <td>41</td>\n",
       "      <td>Private</td>\n",
       "      <td>264663</td>\n",
       "      <td>Some-college</td>\n",
       "      <td>10</td>\n",
       "      <td>Separated</td>\n",
       "      <td>Prof-specialty</td>\n",
       "      <td>Own-child</td>\n",
       "      <td>White</td>\n",
       "      <td>Female</td>\n",
       "      <td>0</td>\n",
       "      <td>3900</td>\n",
       "      <td>40</td>\n",
       "      <td>United-States</td>\n",
       "      <td>&lt;=50K</td>\n",
       "    </tr>\n",
       "    <tr>\n",
       "      <th>3</th>\n",
       "      <td>34</td>\n",
       "      <td>Private</td>\n",
       "      <td>216864</td>\n",
       "      <td>HS-grad</td>\n",
       "      <td>9</td>\n",
       "      <td>Divorced</td>\n",
       "      <td>Other-service</td>\n",
       "      <td>Unmarried</td>\n",
       "      <td>White</td>\n",
       "      <td>Female</td>\n",
       "      <td>0</td>\n",
       "      <td>3770</td>\n",
       "      <td>45</td>\n",
       "      <td>United-States</td>\n",
       "      <td>&lt;=50K</td>\n",
       "    </tr>\n",
       "    <tr>\n",
       "      <th>4</th>\n",
       "      <td>38</td>\n",
       "      <td>Private</td>\n",
       "      <td>150601</td>\n",
       "      <td>10th</td>\n",
       "      <td>6</td>\n",
       "      <td>Separated</td>\n",
       "      <td>Adm-clerical</td>\n",
       "      <td>Unmarried</td>\n",
       "      <td>White</td>\n",
       "      <td>Male</td>\n",
       "      <td>0</td>\n",
       "      <td>3770</td>\n",
       "      <td>40</td>\n",
       "      <td>United-States</td>\n",
       "      <td>&lt;=50K</td>\n",
       "    </tr>\n",
       "    <tr>\n",
       "      <th>5</th>\n",
       "      <td>74</td>\n",
       "      <td>State-gov</td>\n",
       "      <td>88638</td>\n",
       "      <td>Doctorate</td>\n",
       "      <td>16</td>\n",
       "      <td>Never-married</td>\n",
       "      <td>Prof-specialty</td>\n",
       "      <td>Other-relative</td>\n",
       "      <td>White</td>\n",
       "      <td>Female</td>\n",
       "      <td>0</td>\n",
       "      <td>3683</td>\n",
       "      <td>20</td>\n",
       "      <td>United-States</td>\n",
       "      <td>&gt;50K</td>\n",
       "    </tr>\n",
       "    <tr>\n",
       "      <th>6</th>\n",
       "      <td>68</td>\n",
       "      <td>Federal-gov</td>\n",
       "      <td>422013</td>\n",
       "      <td>HS-grad</td>\n",
       "      <td>9</td>\n",
       "      <td>Divorced</td>\n",
       "      <td>Prof-specialty</td>\n",
       "      <td>Not-in-family</td>\n",
       "      <td>White</td>\n",
       "      <td>Female</td>\n",
       "      <td>0</td>\n",
       "      <td>3683</td>\n",
       "      <td>40</td>\n",
       "      <td>United-States</td>\n",
       "      <td>&lt;=50K</td>\n",
       "    </tr>\n",
       "    <tr>\n",
       "      <th>7</th>\n",
       "      <td>45</td>\n",
       "      <td>Private</td>\n",
       "      <td>172274</td>\n",
       "      <td>Doctorate</td>\n",
       "      <td>16</td>\n",
       "      <td>Divorced</td>\n",
       "      <td>Prof-specialty</td>\n",
       "      <td>Unmarried</td>\n",
       "      <td>Black</td>\n",
       "      <td>Female</td>\n",
       "      <td>0</td>\n",
       "      <td>3004</td>\n",
       "      <td>35</td>\n",
       "      <td>United-States</td>\n",
       "      <td>&gt;50K</td>\n",
       "    </tr>\n",
       "    <tr>\n",
       "      <th>8</th>\n",
       "      <td>38</td>\n",
       "      <td>Self-emp-not-inc</td>\n",
       "      <td>164526</td>\n",
       "      <td>Prof-school</td>\n",
       "      <td>15</td>\n",
       "      <td>Never-married</td>\n",
       "      <td>Prof-specialty</td>\n",
       "      <td>Not-in-family</td>\n",
       "      <td>White</td>\n",
       "      <td>Male</td>\n",
       "      <td>0</td>\n",
       "      <td>2824</td>\n",
       "      <td>45</td>\n",
       "      <td>United-States</td>\n",
       "      <td>&gt;50K</td>\n",
       "    </tr>\n",
       "    <tr>\n",
       "      <th>9</th>\n",
       "      <td>52</td>\n",
       "      <td>Private</td>\n",
       "      <td>129177</td>\n",
       "      <td>Bachelors</td>\n",
       "      <td>13</td>\n",
       "      <td>Widowed</td>\n",
       "      <td>Other-service</td>\n",
       "      <td>Not-in-family</td>\n",
       "      <td>White</td>\n",
       "      <td>Female</td>\n",
       "      <td>0</td>\n",
       "      <td>2824</td>\n",
       "      <td>20</td>\n",
       "      <td>United-States</td>\n",
       "      <td>&gt;50K</td>\n",
       "    </tr>\n",
       "  </tbody>\n",
       "</table>\n",
       "</div>"
      ],
      "text/plain": [
       "   age         workclass  fnlwgt     education  education.num marital.status  \\\n",
       "0   82           Private  132870       HS-grad              9        Widowed   \n",
       "1   54           Private  140359       7th-8th              4       Divorced   \n",
       "2   41           Private  264663  Some-college             10      Separated   \n",
       "3   34           Private  216864       HS-grad              9       Divorced   \n",
       "4   38           Private  150601          10th              6      Separated   \n",
       "5   74         State-gov   88638     Doctorate             16  Never-married   \n",
       "6   68       Federal-gov  422013       HS-grad              9       Divorced   \n",
       "7   45           Private  172274     Doctorate             16       Divorced   \n",
       "8   38  Self-emp-not-inc  164526   Prof-school             15  Never-married   \n",
       "9   52           Private  129177     Bachelors             13        Widowed   \n",
       "\n",
       "          occupation    relationship   race     sex  capital.gain  \\\n",
       "0    Exec-managerial   Not-in-family  White  Female             0   \n",
       "1  Machine-op-inspct       Unmarried  White  Female             0   \n",
       "2     Prof-specialty       Own-child  White  Female             0   \n",
       "3      Other-service       Unmarried  White  Female             0   \n",
       "4       Adm-clerical       Unmarried  White    Male             0   \n",
       "5     Prof-specialty  Other-relative  White  Female             0   \n",
       "6     Prof-specialty   Not-in-family  White  Female             0   \n",
       "7     Prof-specialty       Unmarried  Black  Female             0   \n",
       "8     Prof-specialty   Not-in-family  White    Male             0   \n",
       "9      Other-service   Not-in-family  White  Female             0   \n",
       "\n",
       "   capital.loss  hours.per.week native.country income  \n",
       "0          4356              18  United-States  <=50K  \n",
       "1          3900              40  United-States  <=50K  \n",
       "2          3900              40  United-States  <=50K  \n",
       "3          3770              45  United-States  <=50K  \n",
       "4          3770              40  United-States  <=50K  \n",
       "5          3683              20  United-States   >50K  \n",
       "6          3683              40  United-States  <=50K  \n",
       "7          3004              35  United-States   >50K  \n",
       "8          2824              45  United-States   >50K  \n",
       "9          2824              20  United-States   >50K  "
      ]
     },
     "execution_count": 4,
     "metadata": {},
     "output_type": "execute_result"
    }
   ],
   "source": [
    "df_income.head(10)"
   ]
  },
  {
   "cell_type": "markdown",
   "id": "3051fc44",
   "metadata": {},
   "source": [
    "**1. Point estimate and Confidence Interval when σ is unknown**"
   ]
  },
  {
   "cell_type": "markdown",
   "id": "6e1bb5c8",
   "metadata": {},
   "source": [
    "The confidence interval for the population mean when σ is unknown is:\n",
    "\n",
    "<img src=\"data/ci_mean_t.png\" alt=\"Drawing\" style=\"width:300px; float:left\"/>"
   ]
  },
  {
   "cell_type": "markdown",
   "id": "d20231e4",
   "metadata": {},
   "source": [
    "<u>Example</u>:\n",
    "\n",
    "Find the confidence interval for the population mean of the age of adults with workclass=Private with 95% confidence."
   ]
  },
  {
   "cell_type": "code",
   "execution_count": 7,
   "id": "8a2ecfa9",
   "metadata": {},
   "outputs": [
    {
     "data": {
      "text/plain": [
       "{'sample_size': 22286,\n",
       " 'x_bar': 36.79435520057435,\n",
       " 'sample_std': 12.842129264353035}"
      ]
     },
     "execution_count": 7,
     "metadata": {},
     "output_type": "execute_result"
    }
   ],
   "source": [
    "income_private_sector_df = df_income[df_income.workclass == 'Private']\n",
    "\n",
    "# number of samples\n",
    "n = income_private_sector_df.age.count()\n",
    "# sample mean\n",
    "x_bar = income_private_sector_df.age.mean()\n",
    "# sample standard deviation\n",
    "s = income_private_sector_df.age.std()\n",
    "\n",
    "{'sample_size':n, 'x_bar':x_bar, 'sample_std':s}"
   ]
  },
  {
   "cell_type": "code",
   "execution_count": 8,
   "id": "bd06b46b",
   "metadata": {},
   "outputs": [
    {
     "name": "stdout",
     "output_type": "stream",
     "text": [
      "p_value for t*: 0.025000000000000022\n",
      "t*: 1.9600704417036205\n",
      "Confidence interval - scipy function: (36.625741580192035, 36.96296882095667)\n"
     ]
    }
   ],
   "source": [
    "# determining the confidence interval\n",
    "\n",
    "# confidence interval: C=95% and df=n-1\n",
    "\n",
    "p_value = (1 - 0.95)/2\n",
    "print('p_value for t*:', p_value)\n",
    "\n",
    "t_multiplier = st.t.ppf(q=1-p_value, df=n-1)\n",
    "print('t*:', t_multiplier)\n",
    "\n",
    "# using stats.t.interval\n",
    "ci_t = st.t.interval(alpha=0.95, df=n-1, loc=x_bar, scale=st.sem(income_private_sector_df.age))\n",
    "print('Confidence interval - scipy function:', ci_t)"
   ]
  },
  {
   "cell_type": "markdown",
   "id": "77d602ec",
   "metadata": {},
   "source": [
    "**2. Hypothesis Testing**\n",
    "\n",
    "Hypothesis testing involves four steps:\n",
    "\n",
    "<img src=\"data/hyp_steps.jpg\" alt=\"Drawing\" style=\"width:600px; float:left\"/>"
   ]
  },
  {
   "cell_type": "markdown",
   "id": "3003b033",
   "metadata": {},
   "source": [
    "The test when the standard deviation (σ) is unknown is called the **t-test** for the population mean μ.\n",
    "\n",
    "***p-value***<br>\n",
    "p-value is the probability of observing a test statistic (z-score) as extreme as that observed (or even more\n",
    "extreme) assuming that the null hypothesis is true.\n",
    "\n",
    "***t-score***<br>\n",
    "Is calculated:\n",
    "\n",
    "<img src=\"data/t-score.png\" alt=\"Drawing\" style=\"width:150px; float:left\"/>"
   ]
  },
  {
   "cell_type": "code",
   "execution_count": 26,
   "id": "f20a7847",
   "metadata": {},
   "outputs": [],
   "source": [
    "def print_report(p_value:float, alpha:float):\n",
    "    if p_value > alpha:\n",
    "        print('Since p_value(%g) > alpha(%g), the data does not provide enough evidence to reject the null hypothesis.' %(p_value, alpha))\n",
    "    else:\n",
    "        print('Since p_value(%g) < alpha(%g), the data provides enough evidence to reject the null hypothesis.' %(p_value, alpha))"
   ]
  },
  {
   "cell_type": "markdown",
   "id": "1e10ecf4",
   "metadata": {},
   "source": [
    "<u>Example</u>: \n",
    "\n",
    "A recent study claimed that the **average age** of American adults working for the Private sector and having Income > 50K was very young in the 1990s, just about 25. The head of the US Department of Labor believes that the mean should be higher."
   ]
  },
  {
   "cell_type": "code",
   "execution_count": 16,
   "id": "7dbef6fb",
   "metadata": {},
   "outputs": [
    {
     "data": {
      "text/plain": [
       "{'sample_size': 4876,\n",
       " 'x_bar': 42.8201394585726,\n",
       " 'sample_std': 9.975675670762323}"
      ]
     },
     "execution_count": 16,
     "metadata": {},
     "output_type": "execute_result"
    }
   ],
   "source": [
    "income_sub_df = df_income[(df_income.workclass=='Private') & (df_income.income=='>50K')]\n",
    "\n",
    "# number of samples\n",
    "n = income_sub_df.age.count()\n",
    "# sample mean\n",
    "x_bar = income_sub_df.age.mean()\n",
    "# sample standard deviation\n",
    "s = income_sub_df.age.std()\n",
    "\n",
    "{'sample_size':n, 'x_bar':x_bar, 'sample_std':s}"
   ]
  },
  {
   "cell_type": "code",
   "execution_count": 19,
   "id": "23c7c6f4",
   "metadata": {},
   "outputs": [
    {
     "name": "stdout",
     "output_type": "stream",
     "text": [
      "T-test - scipy: Ttest_1sampResult(statistic=124.73853122926442, pvalue=0.0)\n",
      "T-score - scipy: 124.73853122926442\n"
     ]
    }
   ],
   "source": [
    "# step 1: State the hypotheses\n",
    "'''\n",
    "Ho: mu = mu_0 = 25\n",
    "Ha: mu > 25\n",
    "'''\n",
    "\n",
    "# step 2: collecting data and summarizing it using t-test statistics, t-score\n",
    "mu_null = 25\n",
    "\n",
    "# using stats.ttest_1samp\n",
    "t_score = st.ttest_1samp(a=income_sub_df.age, popmean=mu_null, alternative='greater')\n",
    "print('T-test - scipy:', t_score)\n",
    "print('T-score - scipy:', t_score[0])"
   ]
  },
  {
   "cell_type": "code",
   "execution_count": 24,
   "id": "d8705b5b",
   "metadata": {},
   "outputs": [
    {
     "name": "stdout",
     "output_type": "stream",
     "text": [
      "p_value: 0.0\n"
     ]
    }
   ],
   "source": [
    "# step 3: finding the p-value of the test\n",
    "# Ha: mu > 25\n",
    "# p_value = P(t(n-1)>=t) = 1 - P(t(n-1)<=t)\n",
    "\n",
    "print('p_value:', t_score[1])\n",
    "\n",
    "'''\n",
    "Same outcome is achieved by:\n",
    "p_value = 1 - st.t.cdf(x=t_score, df=n-1)\n",
    "print('p_value:', p_value)\n",
    "\n",
    "or... sf: Survival function that calculates directly (1-CDF)\n",
    "p_val_df = st.t.sf(np.abs(t_score), n-1)\n",
    "print('p_value - scipy sf:', p_val_df)\n",
    "'''"
   ]
  },
  {
   "cell_type": "code",
   "execution_count": 29,
   "id": "62d5c0f1",
   "metadata": {},
   "outputs": [
    {
     "name": "stdout",
     "output_type": "stream",
     "text": [
      "Since p_value(0) < alpha(0.05), the data provides enough evidence to reject the null hypothesis.\n"
     ]
    }
   ],
   "source": [
    "# step 4: drawing conclusions\n",
    "alpha = 0.05\n",
    "p_value = t_score[1]\n",
    "print_report(p_value, alpha)"
   ]
  },
  {
   "cell_type": "markdown",
   "id": "45eb3062",
   "metadata": {},
   "source": [
    "### Another option: custom functions"
   ]
  },
  {
   "cell_type": "code",
   "execution_count": null,
   "id": "b418d631",
   "metadata": {},
   "outputs": [],
   "source": [
    "# confidence interval\n",
    "def conf_interval(x_bar:float, s:float, t_mult:float, n:int):\n",
    "    margin_error = t_mult*s/np.sqrt(n)\n",
    "    return (x_bar - margin_error, x_bar + margin_error)\n",
    "\n",
    "# t-score\n",
    "def calculate_t_score(x_bar:float, mu_null:float, s:float, n:int):\n",
    "    return (x_bar - mu_null)/(s/np.sqrt(n))"
   ]
  }
 ],
 "metadata": {
  "kernelspec": {
   "display_name": "Python 3 (ipykernel)",
   "language": "python",
   "name": "python3"
  },
  "language_info": {
   "codemirror_mode": {
    "name": "ipython",
    "version": 3
   },
   "file_extension": ".py",
   "mimetype": "text/x-python",
   "name": "python",
   "nbconvert_exporter": "python",
   "pygments_lexer": "ipython3",
   "version": "3.9.7"
  }
 },
 "nbformat": 4,
 "nbformat_minor": 5
}
